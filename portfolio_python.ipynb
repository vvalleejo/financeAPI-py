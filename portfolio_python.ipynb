{
 "cells": [
  {
   "cell_type": "code",
   "execution_count": 2,
   "id": "b3f4a0cd",
   "metadata": {},
   "outputs": [],
   "source": [
    "import numpy as np\n",
    "import pandas as pd\n",
    "import seaborn as sns\n",
    "import matplotlib.pyplot as plt\n",
    "import yfinance as yf"
   ]
  },
  {
   "cell_type": "markdown",
   "id": "077329c1",
   "metadata": {},
   "source": [
    "## Construccion de la clase Portfolio"
   ]
  },
  {
   "cell_type": "code",
   "execution_count": 79,
   "id": "b6241a3d",
   "metadata": {},
   "outputs": [],
   "source": [
    "class Portfolio:\n",
    "    \n",
    "    def __init__(self, inputs):\n",
    "\n",
    "        #Read params\n",
    "        self.inputs = inputs\n",
    "        p_name = self.inputs['portfolio_name']\n",
    "        print(f\"Portfolio - {p_name} - active\")\n",
    "\n",
    "        #Automatic ticks download\n",
    "        self.ticks = {}\n",
    "        self.download_ticks()\n",
    "\n",
    "    #Class description\n",
    "    def __repr__(self):\n",
    "        return 'Intelligent Portfolio for Financial Assets Management'\n",
    "    \n",
    "    #Show assets ticks\n",
    "    def show_ticks(self):\n",
    "        for i in range(len(self.inputs['ticks'])):\n",
    "            tick_name = self.inputs['ticks'][i]\n",
    "            print(f'{i+1} - {tick_name}')\n",
    "\n",
    "    #Download ticks lists in inputs\n",
    "    def download_ticks(self):\n",
    "        for tick in self.inputs['ticks']:\n",
    "            t = yf.Ticker(tick)\n",
    "            self.ticks[tick] = t\n",
    "\n",
    "    #Draw ticks timeseries\n",
    "    def tick_value(self,tick):\n",
    "        data = self.ticks[tick].history(period='YTD')\n",
    "        plt.figure(figsize=(8,6))\n",
    "        plt.title(f'{tick} - YTD historical close values')\n",
    "        plt.plot(data.index,data['Close'])\n",
    "        plt.show()\n",
    "\n",
    "    #All ticks graph value\n",
    "    def ticks_values(self):\n",
    "        plt.figure(figsize=(12,8))\n",
    "        plt.title('Portfolio Ticks - YTD historical')\n",
    "        for tick in self.ticks:\n",
    "            data = self.ticks[tick].history(period='YTD')\n",
    "            plt.plot(data.index,data['Close'],label=tick)\n",
    "        plt.legend()\n",
    "        plt.show()\n",
    "\n",
    "    #Draw ticks returns\n",
    "    def tick_return(self,tick):\n",
    "        data = self.ticks[tick].history(period='YTD')\n",
    "        data['returns'] = data['Close'].pct_change()\n",
    "        plt.figure(figsize=(8,6))\n",
    "        plt.title(f'{tick} - YTD historical returns')\n",
    "        plt.plot(data.index,data['returns'])\n",
    "        plt.show()\n",
    "\n",
    "    #All ticks graph returns\n",
    "    def ticks_returns(self):\n",
    "        plt.figure(figsize=(12,8))\n",
    "        plt.title('Portfolio Ticks - YTD returns')\n",
    "        for tick in self.ticks:\n",
    "            data = self.ticks[tick].history(period='YTD')\n",
    "            data['returns'] = data['Close'].pct_change()\n",
    "            plt.plot(data.index,data['returns'],label=tick)\n",
    "        plt.legend()\n",
    "        plt.show()\n",
    "\n",
    "    def compare_ticks(self,tick1,tick2):\n",
    "        data_t1 = self.ticks[tick1].history(period='YTD')\n",
    "        data_t1['returns'] = data_t1['Close'].pct_change()\n",
    "        data_t2 = self.ticks[tick2].history(period='YTD')\n",
    "        data_t2['returns'] = data_t2['Close'].pct_change()\n",
    "\n",
    "        plt.figure(figsize=(12,8))\n",
    "        plt.title(f'Correlation of returns between {tick1} and {tick2}')\n",
    "        plt.xlabel(tick1)\n",
    "        plt.xlabel(tick2)\n",
    "\n",
    "        plt.plot(data_t1['returns'],data_t2['returns'],'o')\n",
    "\n",
    "        plt.show()\n",
    "\n",
    "        #Corr index\n",
    "        corr_index = data_t1['returns'].corr(data_t2['returns'])\n",
    "        print(f'The correlation indezx between {tick1} and {tick2} is: {corr_index}')"
   ]
  },
  {
   "cell_type": "markdown",
   "id": "b33bc660",
   "metadata": {},
   "source": [
    "#### Connect with API"
   ]
  },
  {
   "cell_type": "code",
   "execution_count": 80,
   "id": "11369501",
   "metadata": {},
   "outputs": [],
   "source": [
    "spy = yf.Ticker('SPY')"
   ]
  },
  {
   "cell_type": "markdown",
   "id": "6df22572",
   "metadata": {},
   "source": [
    "### App"
   ]
  },
  {
   "cell_type": "code",
   "execution_count": 81,
   "id": "927e0c5d",
   "metadata": {},
   "outputs": [],
   "source": [
    "params = {\n",
    "    'portfolio_name':'BlankHall Portfolio',\n",
    "    'ticks':['SPY','META','AMZN','LIT','URA','TSLA']\n",
    "}"
   ]
  },
  {
   "cell_type": "code",
   "execution_count": 82,
   "id": "56b2bbd4",
   "metadata": {},
   "outputs": [
    {
     "name": "stdout",
     "output_type": "stream",
     "text": [
      "Portfolio - BlankHall Portfolio - active\n"
     ]
    }
   ],
   "source": [
    "port = Portfolio(params)"
   ]
  },
  {
   "cell_type": "code",
   "execution_count": 83,
   "id": "c0d2168c",
   "metadata": {},
   "outputs": [],
   "source": [
    "port.download_ticks()"
   ]
  },
  {
   "cell_type": "code",
   "execution_count": 84,
   "id": "40733533",
   "metadata": {},
   "outputs": [
    {
     "data": {
      "image/png": "[encoded data removed]",
      "text/plain": [
       "<Figure size 864x576 with 1 Axes>"
      ]
     },
     "metadata": {
      "needs_background": "light"
     },
     "output_type": "display_data"
    },
    {
     "name": "stdout",
     "output_type": "stream",
     "text": [
      "The correlation indezx between SPY and META is: 0.5909047783044958\n"
     ]
    }
   ],
   "source": [
    "#port.ticks['META'].history(period='YTD')\n",
    "#port.ticks_values()\n",
    "#port.ticks_returns()\n",
    "port.compare_ticks('SPY','META')"
   ]
  },
  {
   "cell_type": "code",
   "execution_count": null,
   "id": "d0a0f54a",
   "metadata": {},
   "outputs": [],
   "source": []
  }
 ],
 "metadata": {
  "kernelspec": {
   "display_name": "Python 3 (ipykernel)",
   "language": "python",
   "name": "python3"
  },
  "language_info": {
   "codemirror_mode": {
    "name": "ipython",
    "version": 3
   },
   "file_extension": ".py",
   "mimetype": "text/x-python",
   "name": "python",
   "nbconvert_exporter": "python",
   "pygments_lexer": "ipython3",
   "version": "3.8.10"
  }
 },
 "nbformat": 4,
 "nbformat_minor": 5
}
